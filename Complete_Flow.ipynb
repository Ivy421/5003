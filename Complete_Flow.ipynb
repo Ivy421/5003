{
 "cells": [
  {
   "cell_type": "markdown",
   "id": "5eff6df1",
   "metadata": {},
   "source": [
    "# Squash video from 1080x1920 to 1920x1080"
   ]
  },
  {
   "cell_type": "code",
   "execution_count": 3,
   "id": "ceb4dc45",
   "metadata": {},
   "outputs": [],
   "source": [
    "import cv2\n",
    "from IPython.display import display, Image\n",
    "\n",
    "# open video\n",
    "video_path = 'E:/NUS/5003/Camera_cali/ivy_data/ARGait_P_JS_Freewalk_31-01-2024_10-09-20/output.mp4'\n",
    "output_video_path = 'E:/NUS/5003/Camera_cali/ivy_data/ARGait_P_JS_Freewalk_31-01-2024_10-09-20/squash.mp4'\n",
    "cap = cv2.VideoCapture(video_path, cv2.CAP_ANY)\n",
    "cap"
   ]
  },
  {
   "cell_type": "code",
   "execution_count": 4,
   "id": "977da7b4",
   "metadata": {},
   "outputs": [],
   "source": [
    "if not cap.isOpened():\n",
    "    print(\"Error: Could not open video.\")\n",
    "else:\n",
    "    # get frame height and width\n",
    "    frame_width = int(cap.get(3))\n",
    "    frame_height = int(cap.get(4))\n",
    "\n",
    "    # stretching factor \n",
    "    scale_x = 1080/frame_width  \n",
    "    scale_y = 1920/frame_height  \n",
    "\n",
    "# new video write to .mp4 format\n",
    "fourcc = cv2.VideoWriter_fourcc(*'mp4v')  \n",
    "out = cv2.VideoWriter(output_video_path, fourcc, 20.0, (int(frame_width * scale_x), int(frame_height * scale_y)))\n",
    "\n",
    "while cap.isOpened():\n",
    "    \n",
    "    # read video frames\n",
    "    ret, frame = cap.read()\n",
    "    if not ret:\n",
    "        break\n",
    "    \n",
    "    # sqush video\n",
    "    new_width = int(frame_width * scale_x)\n",
    "    new_height = int(frame_height * scale_y)\n",
    "    resized_frame = cv2.resize(frame, (new_width, new_height))\n",
    "\n",
    "    # write to new video\n",
    "    out.write(resized_frame)\n",
    "\n",
    "cap.release()\n",
    "out.release()\n",
    "\n",
    "print(\"Stretched video saved successfully.\")"
   ]
  },
  {
   "cell_type": "markdown",
   "id": "484aa53d",
   "metadata": {},
   "source": [
    "# CUT SINGLE video into frames"
   ]
  },
  {
   "cell_type": "code",
   "execution_count": 5,
   "id": "28ec700d",
   "metadata": {},
   "outputs": [],
   "source": [
    "import cv2\n",
    "import os\n",
    "from moviepy.video.io.VideoFileClip import VideoFileClip\n",
    "import imageio\n",
    "\n",
    "folder_path = 'E:/NUS/5003/Camera_cali/ivy_data/low1/squash.mp4'\n",
    "output_folder = 'E:/NUS/5003/Camera_cali/ivy_data/low1/frames_20/'\n",
    "os.makedirs(output_folder, exist_ok=True)\n",
    "cap = cv2.VideoCapture(folder_path)\n",
    "\n",
    "\n",
    "def split_video_into_frames(video_path, output_folder, frame_rate):\n",
    "    video_clip = VideoFileClip(video_path)\n",
    "    frame_interval = 1 / frame_rate\n",
    "    for i, frame in enumerate(video_clip.iter_frames(fps=frame_rate, dtype='uint8')):\n",
    "        image_filename = f\"{output_folder}/%s.png\"%i\n",
    "        # save frame as image\n",
    "        video_clip.save_frame(image_filename, t=i * frame_interval)\n",
    "    video_clip.reader.close()\n",
    "\n",
    "split_video_into_frames(folder_path,output_folder, 19.86)   # last number is frame rate, is 1/19.86 HZ\n"
   ]
  },
  {
   "cell_type": "markdown",
   "id": "3f9ce0a2",
   "metadata": {},
   "source": [
    "# Camera Martix and LiDAR data"
   ]
  },
  {
   "cell_type": "code",
   "execution_count": 1,
   "id": "0b7d44e8",
   "metadata": {},
   "outputs": [],
   "source": [
    "import cv2\n",
    "import numpy as np\n",
    "import pandas as pd\n",
    "import os\n",
    "import matplotlib.pyplot as plt\n"
   ]
  },
  {
   "cell_type": "code",
   "execution_count": 3,
   "id": "01790c64",
   "metadata": {},
   "outputs": [
    {
     "data": {
      "text/plain": [
       "array([[ 2.17306343e+03,  0.00000000e+00,  5.02828061e+02],\n",
       "       [ 0.00000000e+00,  2.19259497e+03, -1.05449168e+02],\n",
       "       [ 0.00000000e+00,  0.00000000e+00,  1.00000000e+00]])"
      ]
     },
     "execution_count": 3,
     "metadata": {},
     "output_type": "execute_result"
    }
   ],
   "source": [
    "lidar_df = pd.read_csv('E:/NUS/5003/A_3Dtransform/ivy_data/ivy1/lidar.csv')\n",
    "frame_info_df = pd.read_csv('E:/NUS/5003/A_3Dtransform/ivy_data/ivy1/HSTO_info.csv')\n",
    "camera_mtx1 = pd.read_csv(os.getcwd()+'/ivy_data/LabCamera/parameter_mtx1.csv')\n",
    "camera_mtx2 = pd.read_csv(os.getcwd()+'/ivy_data/LabCamera/parameter_mtx2.csv')\n",
    "\n",
    "# get average camera matrix\n",
    "# have done twice calibration\n",
    "\n",
    "camera_mtx1 = camera_mtx1.iloc[:,1:]\n",
    "camera_mtx2 = camera_mtx2.iloc[:,1:]\n",
    "camera_mtx1 = np.array(camera_mtx1)\n",
    "camera_mtx2 = np.array(camera_mtx2)\n",
    "avg_camera_mtx = (camera_mtx1+camera_mtx2) /2  \n",
    "avg_camera_mtx"
   ]
  },
  {
   "cell_type": "markdown",
   "id": "851c6733",
   "metadata": {},
   "source": [
    "# Get video duration from openpose and lidar"
   ]
  },
  {
   "cell_type": "code",
   "execution_count": 4,
   "id": "992f7912",
   "metadata": {},
   "outputs": [
    {
     "name": "stdout",
     "output_type": "stream",
     "text": [
      "openpose video duration: 7.25 s\n",
      "lidar video duration:4.797832 s\n"
     ]
    }
   ],
   "source": [
    "# get videos duration of openpose and lidar\n",
    "# openpose slow down video speed\n",
    "\n",
    "def get_video_duration(video_path):\n",
    "    cap = cv2.VideoCapture(video_path)\n",
    "    fps = cap.get(cv2.CAP_PROP_FPS)\n",
    "    frame_count = int(cap.get(cv2.CAP_PROP_FRAME_COUNT))\n",
    "    duration_sec = frame_count / fps\n",
    "    cap.release()\n",
    "    return duration_sec\n",
    "\n",
    "video_path = 'E:/NUS/5003/A_3Dtransform/ivy_data/ivy1/squash.mp4'\n",
    "openpose_duration = get_video_duration(video_path)\n",
    "lidar_duration = lidar_df.iloc[-1,0]\n",
    "\n",
    "print(f'openpose video duration: {openpose_duration} s')\n",
    "print('lidar video duration:%s s'%lidar_duration) "
   ]
  },
  {
   "cell_type": "markdown",
   "id": "9ad265ca",
   "metadata": {},
   "source": [
    "# Heel Toe visualization"
   ]
  },
  {
   "cell_type": "code",
   "execution_count": 5,
   "id": "8d7c24fa",
   "metadata": {},
   "outputs": [],
   "source": [
    "image_path = 'E:/NUS/5003/A_3Dtransform/ivy_data/ivy1/frames_20/' +'87.png'\n",
    "image = cv2.imread(image_path)\n",
    "\n",
    "# (x1, y1) and (x2, y2)\n",
    "\n",
    "# openpose coordinate defines y at the left bottom, while pixel coordinate define y at left upward, an img is 1920 height\n",
    "\n",
    "heel = (453  +  0  , 1920-706  +  0  )  # heel\n",
    "toe =  (530  -  0  , 1920-728  +  0  )  # toe"
   ]
  },
  {
   "cell_type": "code",
   "execution_count": 6,
   "id": "a40f574f",
   "metadata": {},
   "outputs": [],
   "source": [
    "# mark heel toe point on the image \n",
    "cv2.circle(image, (heel), 5, (0, 255, 0), -1)  # 绿色是heel\n",
    "cv2.circle(image, (toe), 5, (0, 0, 255), -1)  # 红色是toe\n",
    "\n",
    "x, y, w, h = 300, 1000, 600, 600  # 例如，从 (100, 50) 开始，宽度为200，高度为150\n",
    "roi = image[y:y+h, x:x+w]\n",
    "\n",
    "# show interest region with heel toe inside\n",
    "cv2.imshow('Image with Marked Points', roi)\n",
    "cv2.waitKey(0)\n",
    "cv2.destroyAllWindows()"
   ]
  },
  {
   "cell_type": "markdown",
   "id": "e4c064f5",
   "metadata": {},
   "source": [
    "# Get true coordinate, rotate to LIDAR"
   ]
  },
  {
   "cell_type": "code",
   "execution_count": 10,
   "id": "84846b5a",
   "metadata": {},
   "outputs": [
    {
     "ename": "TypeError",
     "evalue": "type numpy.ndarray doesn't define __round__ method",
     "output_type": "error",
     "traceback": [
      "\u001b[1;31m---------------------------------------------------------------------------\u001b[0m",
      "\u001b[1;31mTypeError\u001b[0m                                 Traceback (most recent call last)",
      "Cell \u001b[1;32mIn[10], line 8\u001b[0m\n\u001b[0;32m      6\u001b[0m heel \u001b[38;5;241m=\u001b[39m heel\u001b[38;5;241m/\u001b[39m\u001b[38;5;241m7.5\u001b[39m   \u001b[38;5;66;03m# 1920/256 = 7.5\u001b[39;00m\n\u001b[0;32m      7\u001b[0m toe \u001b[38;5;241m=\u001b[39m toe\u001b[38;5;241m/\u001b[39m\u001b[38;5;241m7.5\u001b[39m\n\u001b[1;32m----> 8\u001b[0m x_heel_lidar \u001b[38;5;241m=\u001b[39m  \u001b[38;5;28;43mround\u001b[39;49m\u001b[43m(\u001b[49m\u001b[38;5;241;43m144\u001b[39;49m\u001b[38;5;241;43m-\u001b[39;49m\u001b[43mheel\u001b[49m\u001b[43m[\u001b[49m\u001b[38;5;241;43m0\u001b[39;49m\u001b[43m]\u001b[49m\u001b[43m[\u001b[49m\u001b[38;5;241;43m0\u001b[39;49m\u001b[43m]\u001b[49m\u001b[43m)\u001b[49m\n\u001b[0;32m      9\u001b[0m y_heel_lidar \u001b[38;5;241m=\u001b[39m  \u001b[38;5;28mround\u001b[39m(heel[\u001b[38;5;241m0\u001b[39m][\u001b[38;5;241m1\u001b[39m])\n\u001b[0;32m     10\u001b[0m x_toe_lidar \u001b[38;5;241m=\u001b[39m \u001b[38;5;28mround\u001b[39m(\u001b[38;5;241m144\u001b[39m\u001b[38;5;241m-\u001b[39mtoe[\u001b[38;5;241m0\u001b[39m][\u001b[38;5;241m0\u001b[39m])\n",
      "\u001b[1;31mTypeError\u001b[0m: type numpy.ndarray doesn't define __round__ method"
     ]
    }
   ],
   "source": [
    "heel = np.array([heel])   \n",
    "toe =  np.array([toe])   \n",
    "\n",
    "# scale pixel resulotion(1920*1080) into lidar resulotion (144*256)\n",
    "\n",
    "heel = heel/7.5   # 1920/256 = 7.5\n",
    "toe = toe/7.5\n",
    "x_heel_lidar =  round(144-heel[0][0])\n",
    "y_heel_lidar =  round(heel[0][1])\n",
    "x_toe_lidar = round(144-toe[0][0])\n",
    "y_toe_lidar = round(toe[0][1])"
   ]
  },
  {
   "cell_type": "code",
   "execution_count": 11,
   "id": "e322109e",
   "metadata": {},
   "outputs": [
    {
     "name": "stdout",
     "output_type": "stream",
     "text": [
      "85 \n",
      " 1.356445    2.789062\n",
      "1.430664    2.986328\n",
      "1.438477    3.017578\n",
      "1.449219    3.044922\n",
      "Name: 85, dtype: float64\n"
     ]
    },
    {
     "data": {
      "image/png": "[encoded data removed]",
      "text/plain": [
       "<Figure size 640x480 with 2 Axes>"
      ]
     },
     "metadata": {},
     "output_type": "display_data"
    }
   ],
   "source": [
    "## Match frameA of openpose with frameB of lidar\n",
    "\n",
    "frame_openpose = int(image_path.split('/')[-1].split('.')[0])\n",
    "lidar_fps = 1/30\n",
    "openpose_fps = 1/19.86\n",
    "openpose_time = frame_openpose*openpose_fps\n",
    "lidar_frame = round(  openpose_time/openpose_duration*lidar_duration/lidar_fps -2  )\n",
    "print(lidar_frame,'\\n',lidar_df.iloc[lidar_frame,1:5] )\n",
    "\n",
    "# Depth image\n",
    "\n",
    "depth_mtx = np.array(lidar_df.iloc[round(lidar_frame),1:]).reshape( 144 , 256)  # 144 row, 256 column    round(lidar_row)\n",
    "plt.imshow(depth_mtx, cmap='viridis', interpolation='nearest')\n",
    "plt.colorbar()  # 添加颜色条以显示深度值对应的颜色\n",
    "plt.title('Depth Matrix Heatmap')\n",
    "plt.show()"
   ]
  },
  {
   "cell_type": "markdown",
   "id": "58f09959",
   "metadata": {},
   "source": [
    "# 3D transformation of heel toe coordinate"
   ]
  },
  {
   "cell_type": "code",
   "execution_count": 24,
   "id": "087af00f",
   "metadata": {},
   "outputs": [
    {
     "data": {
      "text/plain": [
       "(3.316406, 3.445312, 2.9577945765106817, 3.1016406589648646)"
      ]
     },
     "execution_count": 24,
     "metadata": {},
     "output_type": "execute_result"
    }
   ],
   "source": [
    "heel_depth = depth_mtx[x_heel_lidar-1, y_heel_lidar-1]\n",
    "toe_depth =  depth_mtx[x_toe_lidar-1,  y_toe_lidar-1 ]\n",
    "Zc_heel = heel_depth * np.cos( np.arcsin(1.5/heel_depth) )\n",
    "Zc_toe = toe_depth * np.cos( np.arcsin(1.5/toe_depth) ) \n",
    "heel_depth, toe_depth, Zc_heel, Zc_toe,"
   ]
  },
  {
   "cell_type": "code",
   "execution_count": null,
   "id": "a04c599b",
   "metadata": {},
   "outputs": [],
   "source": []
  },
  {
   "cell_type": "code",
   "execution_count": 25,
   "id": "038671ce",
   "metadata": {},
   "outputs": [
    {
     "name": "stdout",
     "output_type": "stream",
     "text": [
      "HS angle of frame 87 is : 35.795929349353905\n"
     ]
    }
   ],
   "source": [
    "Xc_heel = Zc_heel*(x_heel_lidar-avg_camera_mtx[0,2])/avg_camera_mtx[0,0]\n",
    "Yc_heel = Zc_heel*(y_heel_lidar-avg_camera_mtx[1,2])/avg_camera_mtx[1,1]\n",
    "Xc_toe = Zc_toe*(x_toe_lidar-avg_camera_mtx[0,2])/avg_camera_mtx[0,0]\n",
    "Yc_toe = Zc_toe*(x_toe_lidar-avg_camera_mtx[1,2])/avg_camera_mtx[1,1]\n",
    "\n",
    "sin_theta = abs(Yc_heel-Yc_toe)/(np.sqrt(  (Xc_heel-Xc_toe)**2+(Yc_heel-Yc_toe)**2+ (Zc_heel-Zc_toe)**2 )  )\n",
    "theta = np.degrees(np.arcsin(sin_theta))\n",
    "# theta = np.degrees(theta)\n",
    "print('HS angle of frame %s is : %s'%(frame_openpose,theta))"
   ]
  },
  {
   "cell_type": "code",
   "execution_count": null,
   "id": "e24f0018",
   "metadata": {},
   "outputs": [],
   "source": []
  },
  {
   "cell_type": "code",
   "execution_count": null,
   "id": "f28a61d0",
   "metadata": {},
   "outputs": [],
   "source": []
  },
  {
   "cell_type": "code",
   "execution_count": null,
   "id": "1fc6d268",
   "metadata": {},
   "outputs": [],
   "source": []
  }
 ],
 "metadata": {
  "kernelspec": {
   "display_name": "Python 3 (ipykernel)",
   "language": "python",
   "name": "python3"
  },
  "language_info": {
   "codemirror_mode": {
    "name": "ipython",
    "version": 3
   },
   "file_extension": ".py",
   "mimetype": "text/x-python",
   "name": "python",
   "nbconvert_exporter": "python",
   "pygments_lexer": "ipython3",
   "version": "3.8.17"
  }
 },
 "nbformat": 4,
 "nbformat_minor": 5
}
