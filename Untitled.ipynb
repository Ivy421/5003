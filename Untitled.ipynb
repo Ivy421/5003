{
 "cells": [
  {
   "cell_type": "code",
   "execution_count": 2,
   "id": "1edbc8fc",
   "metadata": {},
   "outputs": [
    {
     "name": "stdout",
     "output_type": "stream",
     "text": [
      "{'array1': [[0, 0, 0, 0, 0], [0, 0, 0, 0, 0], [0, 0, 0, 0, 0], [0, 0, 0, 0, 0], [0, 0, 0, 0, 0], [0, 0, 0, 0, 0]], 'array2': [[0, 0, 0, 0, 0], [0, 0, 0, 0, 0], [0, 0, 0, 0, 0], [0, 0, 0, 0, 0], [0, 0, 0, 0, 0], [0, 0, 0, 0, 0]]}\n"
     ]
    }
   ],
   "source": [
    "my_dict = {}\n",
    "\n",
    "# 为字典添加键值对，并动态生成二维数组\n",
    "for i in range(1, 3):  # 你可以根据需要添加更多的键值对\n",
    "    key = f'array{i}'\n",
    "    \n",
    "    # 假设这里的 rows 和 cols 是动态确定的\n",
    "    rows = 6  # 你需要根据实际情况获取行数\n",
    "    cols = 5  # 你需要根据实际情况获取列数\n",
    "    \n",
    "    empty_array = [[0] * cols for _ in range(rows)]\n",
    "    my_dict[key] = empty_array\n",
    "\n",
    "# 打印初始化后的字典\n",
    "print(my_dict)"
   ]
  },
  {
   "cell_type": "code",
   "execution_count": 1,
   "id": "760965ed",
   "metadata": {},
   "outputs": [],
   "source": [
    "import cv2\n",
    "import numpy as np\n",
    "img = 'frame_pic.png'"
   ]
  },
  {
   "cell_type": "code",
   "execution_count": 2,
   "id": "19681072",
   "metadata": {},
   "outputs": [],
   "source": [
    "image = cv2.imread(img)\n",
    "\n",
    "# 将图像转换为灰度\n",
    "gray = cv2.cvtColor(image, cv2.COLOR_BGR2GRAY)"
   ]
  },
  {
   "cell_type": "code",
   "execution_count": 3,
   "id": "16de4fa5",
   "metadata": {},
   "outputs": [
    {
     "name": "stdout",
     "output_type": "stream",
     "text": [
      "Vanishing Point: [208.40372908 165.32159056]\n"
     ]
    }
   ],
   "source": [
    "edges = cv2.Canny(gray, 50, 150, apertureSize=3)\n",
    "lines = cv2.HoughLines(edges, 1, np.pi / 180, threshold=100)\n",
    "\n",
    "# 找到直线的交点\n",
    "vanishing_point = np.array([0.0, 0.0])\n",
    "for line in lines:\n",
    "    rho, theta = line[0]\n",
    "    a = np.cos(theta)\n",
    "    b = np.sin(theta)\n",
    "    x0 = a * rho\n",
    "    y0 = b * rho\n",
    "    vanishing_point += np.array([x0, y0])\n",
    "\n",
    "vanishing_point /= len(lines)\n",
    "\n",
    "print(\"Vanishing Point:\", vanishing_point)"
   ]
  },
  {
   "cell_type": "code",
   "execution_count": 4,
   "id": "2f6ceb93",
   "metadata": {},
   "outputs": [],
   "source": [
    "lines = cv2.HoughLines(edges, 1, np.pi / 180, threshold=200)\n",
    "\n",
    "# 在原始图像上绘制检测到的直线\n",
    "for line in lines:\n",
    "    rho, theta = line[0]\n",
    "    a = np.cos(theta)\n",
    "    b = np.sin(theta)\n",
    "    x0 = a * rho\n",
    "    y0 = b * rho\n",
    "    x1 = int(x0 + 1000 * (-b))\n",
    "    y1 = int(y0 + 1000 * (a))\n",
    "    x2 = int(x0 - 1000 * (-b))\n",
    "    y2 = int(y0 - 1000 * (a))\n",
    "\n",
    "    cv2.line(image, (x1, y1), (x2, y2), (0, 0, 255), 2)\n",
    "\n",
    "# 显示结果图像\n",
    "cv2.imshow('Detected Lines', image)\n",
    "# 设置目标大小（宽度，高度）\n",
    "target_size = (200, 400)\n",
    "\n",
    "# 调整图像大小\n",
    "resized_image = cv2.resize(image, target_size)\n",
    "\n",
    "cv2.imshow('Resized Image', resized_image)\n",
    "cv2.waitKey(0)\n",
    "cv2.destroyAllWindows()"
   ]
  },
  {
   "cell_type": "code",
   "execution_count": null,
   "id": "3a91f32f",
   "metadata": {},
   "outputs": [],
   "source": [
    "import "
   ]
  },
  {
   "cell_type": "code",
   "execution_count": null,
   "id": "06b9595f",
   "metadata": {},
   "outputs": [],
   "source": []
  },
  {
   "cell_type": "code",
   "execution_count": null,
   "id": "b828819c",
   "metadata": {},
   "outputs": [],
   "source": []
  },
  {
   "cell_type": "code",
   "execution_count": null,
   "id": "f9af28b7",
   "metadata": {},
   "outputs": [],
   "source": []
  }
 ],
 "metadata": {
  "kernelspec": {
   "display_name": "Python 3 (ipykernel)",
   "language": "python",
   "name": "python3"
  },
  "language_info": {
   "codemirror_mode": {
    "name": "ipython",
    "version": 3
   },
   "file_extension": ".py",
   "mimetype": "text/x-python",
   "name": "python",
   "nbconvert_exporter": "python",
   "pygments_lexer": "ipython3",
   "version": "3.8.17"
  }
 },
 "nbformat": 4,
 "nbformat_minor": 5
}
