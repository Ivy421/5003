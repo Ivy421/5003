{
 "cells": [
  {
   "cell_type": "code",
   "execution_count": 23,
   "id": "d91f682a",
   "metadata": {},
   "outputs": [
    {
     "name": "stdout",
     "output_type": "stream",
     "text": [
      "E:/NUS/5003/A_3Dtransform/ivy_data/LabCamera/raw_img\\1.jpg\n",
      "Pic 1: there are corner\n",
      "write image to out_1\n",
      "E:/NUS/5003/A_3Dtransform/ivy_data/LabCamera/raw_img\\10.jpg\n",
      "Pic 2: there are corner\n",
      "write image to out_10\n",
      "E:/NUS/5003/A_3Dtransform/ivy_data/LabCamera/raw_img\\11.jpg\n",
      "E:/NUS/5003/A_3Dtransform/ivy_data/LabCamera/raw_img\\12.jpg\n",
      "E:/NUS/5003/A_3Dtransform/ivy_data/LabCamera/raw_img\\13.jpg\n",
      "E:/NUS/5003/A_3Dtransform/ivy_data/LabCamera/raw_img\\14.jpg\n",
      "Pic 3: there are corner\n",
      "write image to out_14\n",
      "E:/NUS/5003/A_3Dtransform/ivy_data/LabCamera/raw_img\\15.jpg\n",
      "Pic 4: there are corner\n",
      "write image to out_15\n",
      "E:/NUS/5003/A_3Dtransform/ivy_data/LabCamera/raw_img\\16.jpg\n",
      "Pic 5: there are corner\n",
      "write image to out_16\n",
      "E:/NUS/5003/A_3Dtransform/ivy_data/LabCamera/raw_img\\17.jpg\n",
      "Pic 6: there are corner\n",
      "write image to out_17\n",
      "E:/NUS/5003/A_3Dtransform/ivy_data/LabCamera/raw_img\\2.jpg\n",
      "Pic 7: there are corner\n",
      "write image to out_2\n",
      "E:/NUS/5003/A_3Dtransform/ivy_data/LabCamera/raw_img\\20.jpg\n",
      "Pic 8: there are corner\n",
      "write image to out_20\n",
      "E:/NUS/5003/A_3Dtransform/ivy_data/LabCamera/raw_img\\3.jpg\n",
      "E:/NUS/5003/A_3Dtransform/ivy_data/LabCamera/raw_img\\4.jpg\n",
      "Pic 9: there are corner\n",
      "write image to out_4\n",
      "E:/NUS/5003/A_3Dtransform/ivy_data/LabCamera/raw_img\\5.jpg\n",
      "Pic 10: there are corner\n",
      "write image to out_5\n",
      "E:/NUS/5003/A_3Dtransform/ivy_data/LabCamera/raw_img\\6.jpg\n",
      "E:/NUS/5003/A_3Dtransform/ivy_data/LabCamera/raw_img\\7.jpg\n",
      "Pic 11: there are corner\n",
      "write image to out_7\n",
      "E:/NUS/5003/A_3Dtransform/ivy_data/LabCamera/raw_img\\8.jpg\n",
      "Pic 12: there are corner\n",
      "write image to out_8\n",
      "E:/NUS/5003/A_3Dtransform/ivy_data/LabCamera/raw_img\\9.jpg\n",
      "Pic 13: there are corner\n",
      "write image to out_9\n",
      "E:/NUS/5003/A_3Dtransform/ivy_data/LabCamera/raw_img\\test1.jpg\n",
      "Pic 14: there are corner\n",
      "write image to out_test1\n",
      "E:/NUS/5003/A_3Dtransform/ivy_data/LabCamera/raw_img\\test11.jpg\n",
      "Pic 15: there are corner\n",
      "write image to out_test11\n",
      "E:/NUS/5003/A_3Dtransform/ivy_data/LabCamera/raw_img\\test2.jpg\n",
      "Pic 16: there are corner\n",
      "write image to out_test2\n"
     ]
    }
   ],
   "source": [
    "import numpy as np\n",
    "import cv2 as cv\n",
    "import glob\n",
    "import os\n",
    "    \n",
    "# termination criteria\n",
    "criteria = (cv.TERM_CRITERIA_EPS + cv.TERM_CRITERIA_MAX_ITER, 100, 0.0005)\n",
    "\n",
    "# prepare object points, like (0,0,0), (1,0,0), (2,0,0) ....,(6,5,0)\n",
    "objp = np.zeros((6*9,3), np.float32)\n",
    "objp[:,:2] = np.mgrid[0:9,0:6].T.reshape(-1,2)\n",
    "\n",
    "# Arrays to store object points and image points from all the images.\n",
    "objpoints = [] # 3d point in real world space\n",
    "imgpoints = [] # 2d points in image plane.\n",
    "image_folder = 'E:/NUS/5003/A_3Dtransform/ivy_data/LabCamera/raw_img'  #   raw_img\n",
    "\n",
    "images = glob.glob(os.path.join(image_folder, \"*.jpg\"))\n",
    "\n",
    "\n",
    "i=0\n",
    "for fname in images:\n",
    "    print(fname)\n",
    "    img_name = fname.split('\\\\')[-1]\n",
    "    img_name = img_name.split('.')[0]\n",
    "    img = cv.imread(fname)\n",
    "    img = cv.resize(img,(int(img.shape[1]/1.5),int(img.shape[0]/1.5)))\n",
    "    gray = cv.cvtColor(img, cv.COLOR_BGR2GRAY)\n",
    "    # Find the chess board corners\n",
    "    ret, corners = cv.findChessboardCorners(img, (9,6), None)\n",
    "    # If found, add object points, image points (after refining them)\n",
    "    if ret == True:\n",
    "        i+=1\n",
    "        print('Pic %s: there are corner'%i)\n",
    "        objpoints.append(objp)\n",
    "        corners2 = cv.cornerSubPix(gray,corners, (11,11), (-1,-1), criteria)\n",
    "        imgpoints.append(corners2)\n",
    "        # Draw and display the corners\n",
    "        cv.drawChessboardCorners(img, (9,6), corners2, ret)\n",
    "        print('write image to out_%s'%img_name    )\n",
    "        cv.imwrite('E:/NUS/5003/Camera_cali/ivy_data/LabCamera/processed_img/out_%s.png'%img_name, img)\n",
    "        #cv.imshow('img', img)\n",
    "        #cv.waitKey(500)\n",
    "        \n",
    "        #cv.destroyAllWindows()\n"
   ]
  },
  {
   "cell_type": "code",
   "execution_count": 24,
   "id": "765e496f",
   "metadata": {},
   "outputs": [
    {
     "data": {
      "text/plain": [
       "array([[2.48164984e+03, 0.00000000e+00, 6.88424831e+02],\n",
       "       [0.00000000e+00, 2.53145860e+03, 9.93322708e+01],\n",
       "       [0.00000000e+00, 0.00000000e+00, 1.00000000e+00]])"
      ]
     },
     "execution_count": 24,
     "metadata": {},
     "output_type": "execute_result"
    }
   ],
   "source": [
    "ret, mtx, dist, rvecs, tvecs = cv.calibrateCamera(objpoints, imgpoints, gray.shape[::-1], None, None)\n",
    "mtx"
   ]
  },
  {
   "cell_type": "code",
   "execution_count": 25,
   "id": "fc921f8f",
   "metadata": {},
   "outputs": [
    {
     "name": "stdout",
     "output_type": "stream",
     "text": [
      "total error: 0.3375671440278838\n"
     ]
    }
   ],
   "source": [
    "mean_error = 0\n",
    "for i in range(len(objpoints)):\n",
    "    imgpoints2, _ = cv.projectPoints(objpoints[i], rvecs[i], tvecs[i], mtx, dist)\n",
    "    error = cv.norm(imgpoints[i], imgpoints2, cv.NORM_L2)/len(imgpoints2)\n",
    "    mean_error += error\n",
    "print( \"total error: {}\".format(mean_error/len(objpoints)) )  \n",
    "\n",
    "## result = 0.67  it is good"
   ]
  },
  {
   "cell_type": "code",
   "execution_count": 17,
   "id": "a2462bc3",
   "metadata": {},
   "outputs": [],
   "source": [
    "img = cv.imread('32.jpg')\n",
    "h,  w = img.shape[:2]\n",
    "newcameramtx, roi = cv.getOptimalNewCameraMatrix(mtx, dist, (w,h), 1, (w,h))"
   ]
  },
  {
   "cell_type": "code",
   "execution_count": 18,
   "id": "9191da7e",
   "metadata": {},
   "outputs": [
    {
     "data": {
      "text/plain": [
       "True"
      ]
     },
     "execution_count": 18,
     "metadata": {},
     "output_type": "execute_result"
    }
   ],
   "source": [
    "# undistort \n",
    "mapx, mapy = cv.initUndistortRectifyMap(mtx, dist, None, newcameramtx, (w,h), 5)\n",
    "dst = cv.remap(img, mapx, mapy, cv.INTER_LINEAR)\n",
    "# crop the image\n",
    "x, y, w, h = roi\n",
    "dst = dst[y:y+h, x:x+w]\n",
    "cv.imwrite('32_output.jpg', dst)"
   ]
  },
  {
   "cell_type": "code",
   "execution_count": 9,
   "id": "968e9b31",
   "metadata": {},
   "outputs": [
    {
     "data": {
      "text/plain": [
       "(448, 73, 940, 352)"
      ]
     },
     "execution_count": 9,
     "metadata": {},
     "output_type": "execute_result"
    }
   ],
   "source": [
    "roi"
   ]
  },
  {
   "cell_type": "code",
   "execution_count": 10,
   "id": "cb1dd8b3",
   "metadata": {},
   "outputs": [
    {
     "data": {
      "text/plain": [
       "array([[2.48164984e+03, 0.00000000e+00, 6.88424831e+02],\n",
       "       [0.00000000e+00, 2.53145860e+03, 9.93322708e+01],\n",
       "       [0.00000000e+00, 0.00000000e+00, 1.00000000e+00]])"
      ]
     },
     "execution_count": 10,
     "metadata": {},
     "output_type": "execute_result"
    }
   ],
   "source": [
    "mtx"
   ]
  },
  {
   "cell_type": "code",
   "execution_count": 16,
   "id": "86c479ba",
   "metadata": {},
   "outputs": [],
   "source": [
    "## write matrix to csv"
   ]
  },
  {
   "cell_type": "code",
   "execution_count": 17,
   "id": "be9ac7de",
   "metadata": {},
   "outputs": [],
   "source": [
    "import csv \n",
    "import pandas as pd\n",
    "mtx_df = pd.DataFrame(mtx)\n",
    "mtx_df.to_csv('parameter_mtx2.csv')"
   ]
  },
  {
   "cell_type": "code",
   "execution_count": null,
   "id": "d9f728e0",
   "metadata": {},
   "outputs": [],
   "source": []
  },
  {
   "cell_type": "code",
   "execution_count": null,
   "id": "059f7c4f",
   "metadata": {},
   "outputs": [],
   "source": []
  },
  {
   "cell_type": "code",
   "execution_count": 21,
   "id": "5ac58b57",
   "metadata": {},
   "outputs": [],
   "source": [
    "import numpy as np"
   ]
  },
  {
   "cell_type": "code",
   "execution_count": 27,
   "id": "4198c435",
   "metadata": {},
   "outputs": [
    {
     "data": {
      "text/plain": [
       "array([[2.47623460e+03, 0.00000000e+00, 7.02787874e+02],\n",
       "       [0.00000000e+00, 2.51552384e+03, 1.10708727e+02],\n",
       "       [0.00000000e+00, 0.00000000e+00, 1.00000000e+00]])"
      ]
     },
     "execution_count": 27,
     "metadata": {},
     "output_type": "execute_result"
    }
   ],
   "source": [
    "mtx1 = np.array([[2.47081936e+03, 0.00000000e+00, 7.17150916e+02],\n",
    "       [0.00000000e+00, 2.49958908e+03, 1.22085184e+02],\n",
    "       [0.00000000e+00, 0.00000000e+00, 1.00000000e+00]])\n",
    "\n",
    "mtx2 = np.array([[2.48164984e+03, 0.00000000e+00, 6.88424831e+02],\n",
    "       [0.00000000e+00, 2.53145860e+03, 9.93322708e+01],\n",
    "       [0.00000000e+00, 0.00000000e+00, 1.00000000e+00]])\n",
    "\n",
    "avg_mtx = (mtx1+mtx2)/2\n",
    "avg_mtx"
   ]
  },
  {
   "cell_type": "code",
   "execution_count": null,
   "id": "af0a56bb",
   "metadata": {},
   "outputs": [],
   "source": []
  },
  {
   "cell_type": "code",
   "execution_count": null,
   "id": "1e6c5283",
   "metadata": {},
   "outputs": [],
   "source": []
  }
 ],
 "metadata": {
  "kernelspec": {
   "display_name": "Python 3 (ipykernel)",
   "language": "python",
   "name": "python3"
  },
  "language_info": {
   "codemirror_mode": {
    "name": "ipython",
    "version": 3
   },
   "file_extension": ".py",
   "mimetype": "text/x-python",
   "name": "python",
   "nbconvert_exporter": "python",
   "pygments_lexer": "ipython3",
   "version": "3.8.17"
  }
 },
 "nbformat": 4,
 "nbformat_minor": 5
}
