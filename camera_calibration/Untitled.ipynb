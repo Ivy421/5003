{
 "cells": [
  {
   "cell_type": "code",
   "execution_count": 17,
   "id": "e8dfdddd",
   "metadata": {},
   "outputs": [
    {
     "name": "stdout",
     "output_type": "stream",
     "text": [
      "1.jpg\n",
      "E:\\NUS\\5003\\Camera_cali\\ivy_data\\LabCamera/raw_img/1.jpg\n",
      "10.jpg\n",
      "E:\\NUS\\5003\\Camera_cali\\ivy_data\\LabCamera/raw_img/10.jpg\n",
      "11.jpg\n",
      "E:\\NUS\\5003\\Camera_cali\\ivy_data\\LabCamera/raw_img/11.jpg\n",
      "12.jpg\n",
      "E:\\NUS\\5003\\Camera_cali\\ivy_data\\LabCamera/raw_img/12.jpg\n",
      "13.jpg\n",
      "E:\\NUS\\5003\\Camera_cali\\ivy_data\\LabCamera/raw_img/13.jpg\n",
      "14.jpg\n",
      "E:\\NUS\\5003\\Camera_cali\\ivy_data\\LabCamera/raw_img/14.jpg\n",
      "15.jpg\n",
      "E:\\NUS\\5003\\Camera_cali\\ivy_data\\LabCamera/raw_img/15.jpg\n",
      "16.jpg\n",
      "E:\\NUS\\5003\\Camera_cali\\ivy_data\\LabCamera/raw_img/16.jpg\n",
      "17.jpg\n",
      "E:\\NUS\\5003\\Camera_cali\\ivy_data\\LabCamera/raw_img/17.jpg\n",
      "18.jpg\n",
      "E:\\NUS\\5003\\Camera_cali\\ivy_data\\LabCamera/raw_img/18.jpg\n",
      "19.jpg\n",
      "E:\\NUS\\5003\\Camera_cali\\ivy_data\\LabCamera/raw_img/19.jpg\n",
      "2.jpg\n",
      "E:\\NUS\\5003\\Camera_cali\\ivy_data\\LabCamera/raw_img/2.jpg\n",
      "20.jpg\n",
      "E:\\NUS\\5003\\Camera_cali\\ivy_data\\LabCamera/raw_img/20.jpg\n",
      "3.jpg\n",
      "E:\\NUS\\5003\\Camera_cali\\ivy_data\\LabCamera/raw_img/3.jpg\n",
      "4.jpg\n",
      "E:\\NUS\\5003\\Camera_cali\\ivy_data\\LabCamera/raw_img/4.jpg\n",
      "5.jpg\n",
      "E:\\NUS\\5003\\Camera_cali\\ivy_data\\LabCamera/raw_img/5.jpg\n",
      "6.jpg\n",
      "E:\\NUS\\5003\\Camera_cali\\ivy_data\\LabCamera/raw_img/6.jpg\n",
      "7.jpg\n",
      "E:\\NUS\\5003\\Camera_cali\\ivy_data\\LabCamera/raw_img/7.jpg\n",
      "8.jpg\n",
      "E:\\NUS\\5003\\Camera_cali\\ivy_data\\LabCamera/raw_img/8.jpg\n",
      "9.jpg\n",
      "E:\\NUS\\5003\\Camera_cali\\ivy_data\\LabCamera/raw_img/9.jpg\n",
      "test2.jpg\n",
      "E:\\NUS\\5003\\Camera_cali\\ivy_data\\LabCamera/raw_img/test2.jpg\n"
     ]
    }
   ],
   "source": [
    "import cv2\n",
    "import numpy as np\n",
    "import os\n",
    "\n",
    "raw_img = []\n",
    "for file in os.listdir(os.getcwd()+'/raw_img'):\n",
    "    if file.endswith('.jpg'):\n",
    "        print(file)\n",
    "        raw_img.append(file)\n",
    "        \n",
    "    # 读取图像\n",
    "        img_path = os.getcwd()+'/raw_img/'+ file\n",
    "        print(img_path)\n",
    "        image = cv2.imread(img_path)\n",
    "\n",
    "        # 增强对比度\n",
    "        alpha = 1.5  # 调整对比度，large value large contrast\n",
    "        beta = 22    # large value more lighted\n",
    "        enhanced_image = cv2.convertScaleAbs(image, alpha=alpha, beta=beta)\n",
    "\n",
    "        # 将图像转换为灰度\n",
    "        gray_image = cv2.cvtColor(enhanced_image, cv2.COLOR_BGR2GRAY)\n",
    "        \n",
    "        # 生成输出文件的路径\n",
    "        output_path = os.path.join(os.getcwd()+'/binary_img/gray%s.jpg'%file)\n",
    "\n",
    "        # 保存灰度图像\n",
    "        cv2.imwrite(output_path, gray_image)\n",
    "\n",
    "        # 显示原始图像和处理后的图像\n",
    "        # cv2.imshow('Original Image', image)\n",
    "        # cv2.imshow('Enhanced Image', enhanced_image)\n",
    "        # cv2.imshow('Grayscale Image', gray_image)\n",
    "        # cv2.waitKey(0)\n",
    "        # cv2.destroyAllWindows()\n"
   ]
  },
  {
   "cell_type": "code",
   "execution_count": 10,
   "id": "74cdf962",
   "metadata": {},
   "outputs": [
    {
     "name": "stdout",
     "output_type": "stream",
     "text": [
      "Error: Unable to read the image.\n"
     ]
    }
   ],
   "source": []
  },
  {
   "cell_type": "code",
   "execution_count": null,
   "id": "af6286cd",
   "metadata": {},
   "outputs": [],
   "source": []
  }
 ],
 "metadata": {
  "kernelspec": {
   "display_name": "Python 3 (ipykernel)",
   "language": "python",
   "name": "python3"
  },
  "language_info": {
   "codemirror_mode": {
    "name": "ipython",
    "version": 3
   },
   "file_extension": ".py",
   "mimetype": "text/x-python",
   "name": "python",
   "nbconvert_exporter": "python",
   "pygments_lexer": "ipython3",
   "version": "3.8.17"
  }
 },
 "nbformat": 4,
 "nbformat_minor": 5
}
