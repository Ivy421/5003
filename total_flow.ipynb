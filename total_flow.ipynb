{
 "cells": [
  {
   "cell_type": "markdown",
   "id": "5eff6df1",
   "metadata": {},
   "source": [
    "# Scale video"
   ]
  },
  {
   "cell_type": "code",
   "execution_count": 3,
   "id": "ceb4dc45",
   "metadata": {},
   "outputs": [],
   "source": [
    "import cv2\n",
    "from IPython.display import display, Image\n",
    "\n",
    "# 定义视频文件路径\n",
    "video_path = 'E:/NUS/5003/Camera_cali/ivy_data/ARGait_P_JS_Freewalk_31-01-2024_10-09-20/output.mp4'\n",
    "output_video_path = 'E:/NUS/5003/Camera_cali/ivy_data/ARGait_P_JS_Freewalk_31-01-2024_10-09-20/squash.mp4'\n",
    "# 打开视频文件\n",
    "cap = cv2.VideoCapture(video_path, cv2.CAP_ANY)\n",
    "cap"
   ]
  },
  {
   "cell_type": "code",
   "execution_count": 4,
   "id": "977da7b4",
   "metadata": {},
   "outputs": [],
   "source": [
    "\n",
    "# 检查是否成功打开视频\n",
    "if not cap.isOpened():\n",
    "    print(\"Error: Could not open video.\")\n",
    "else:\n",
    "    # 获取视频的帧宽度和帧高度\n",
    "    frame_width = int(cap.get(3))\n",
    "    frame_height = int(cap.get(4))\n",
    "\n",
    "    # 定义横向和纵向拉伸因子\n",
    "    scale_x = 1080/frame_width  # 2表示横向拉伸为原来的两倍\n",
    "    scale_y = 1920/frame_height  # 0.5表示纵向拉伸为原来的一半\n",
    "\n",
    "# 创建VideoWriter对象\n",
    "fourcc = cv2.VideoWriter_fourcc(*'mp4v')  # 视频编码格式，可以根据需要修改\n",
    "out = cv2.VideoWriter(output_video_path, fourcc, 20.0, (int(frame_width * scale_x), int(frame_height * scale_y)))\n",
    "\n",
    "while cap.isOpened():\n",
    "    # 读取视频帧\n",
    "    ret, frame = cap.read()\n",
    "    if not ret:\n",
    "        break\n",
    "\n",
    "    # 横向和纵向拉伸\n",
    "    new_width = int(frame_width * scale_x)\n",
    "    new_height = int(frame_height * scale_y)\n",
    "    resized_frame = cv2.resize(frame, (new_width, new_height))\n",
    "\n",
    "    # 将处理后的帧写入输出视频文件\n",
    "    out.write(resized_frame)\n",
    "\n",
    "# 释放视频对象和写入对象\n",
    "cap.release()\n",
    "out.release()\n",
    "\n",
    "print(\"Stretched video saved successfully.\")\n"
   ]
  },
  {
   "cell_type": "markdown",
   "id": "484aa53d",
   "metadata": {},
   "source": [
    "# CUT SINGLE video into frames"
   ]
  },
  {
   "cell_type": "code",
   "execution_count": 5,
   "id": "28ec700d",
   "metadata": {},
   "outputs": [],
   "source": [
    "import cv2\n",
    "import os\n",
    "from moviepy.video.io.VideoFileClip import VideoFileClip\n",
    "import imageio\n",
    "\n",
    "\n",
    "# 定义视频文件路径\n",
    "folder_path = 'E:/NUS/5003/Camera_cali/ivy_data/low1/squash.mp4'\n",
    "\n",
    "# 定义保存图像的文件夹路径\n",
    "output_folder = 'E:/NUS/5003/Camera_cali/ivy_data/low1/frames_20/'\n",
    "\n",
    "# 创建保存图像的文件夹（如果不存在）\n",
    "os.makedirs(output_folder, exist_ok=True)\n",
    "\n",
    "# 打开视频文件\n",
    "cap = cv2.VideoCapture(folder_path)\n",
    "\n",
    "\n",
    "def split_video_into_frames(video_path, output_folder, frame_rate):\n",
    "    # 打开视频文件\n",
    "    video_clip = VideoFileClip(video_path)\n",
    "\n",
    "    # 计算每帧的时间间隔\n",
    "    frame_interval = 1 / frame_rate\n",
    "\n",
    "    # 循环处理每帧\n",
    "    for i, frame in enumerate(video_clip.iter_frames(fps=frame_rate, dtype='uint8')):\n",
    "        # 创建图像文件名\n",
    "        image_filename = f\"{output_folder}/%s.png\"%i\n",
    "\n",
    "        # 保存当前帧为图像文件\n",
    "        video_clip.save_frame(image_filename, t=i * frame_interval)\n",
    "\n",
    "    # 关闭视频文件\n",
    "    video_clip.reader.close()\n",
    "\n",
    "split_video_into_frames(folder_path,output_folder, 19.86)   # last number is frame rate \n",
    "\n"
   ]
  },
  {
   "cell_type": "code",
   "execution_count": null,
   "id": "fca937a6",
   "metadata": {},
   "outputs": [],
   "source": []
  },
  {
   "cell_type": "markdown",
   "id": "3f9ce0a2",
   "metadata": {},
   "source": [
    "# Check frame Coordinate of heel toe"
   ]
  },
  {
   "cell_type": "code",
   "execution_count": 27,
   "id": "0b7d44e8",
   "metadata": {},
   "outputs": [
    {
     "name": "stdout",
     "output_type": "stream",
     "text": [
      "(1920, 1080, 3)\n"
     ]
    }
   ],
   "source": [
    "import cv2\n",
    "import numpy as np\n",
    "\n",
    "# 读取图片\n",
    "image_path = '55.png'\n",
    "image = cv2.imread(image_path)\n",
    "\n",
    "print(image.shape)\n",
    "# 假设有两个坐标点 (x1, y1) 和 (x2, y2)\n",
    "heel = (451, 1184)  # heel\n",
    "toe = (511, 1175)  # toe\n"
   ]
  },
  {
   "cell_type": "code",
   "execution_count": 28,
   "id": "a40f574f",
   "metadata": {},
   "outputs": [],
   "source": [
    "# 在图像上标记坐标点\n",
    "cv2.circle(image, heel, 5, (0, 255, 0), -1)  # 绿色是heel\n",
    "cv2.circle(image, toe, 5, (0, 0, 255), -1)  # 红色是toe\n",
    "\n",
    "x, y, w, h = 200, 900, 600, 600  # 例如，从 (100, 50) 开始，宽度为200，高度为150\n",
    "roi = image[y:y+h, x:x+w]\n",
    "\n",
    "\n",
    "# 显示图像\n",
    "cv2.imshow('Image with Marked Points', roi)\n",
    "cv2.waitKey(0)\n",
    "cv2.destroyAllWindows()"
   ]
  },
  {
   "cell_type": "code",
   "execution_count": null,
   "id": "5d60b584",
   "metadata": {},
   "outputs": [],
   "source": []
  },
  {
   "cell_type": "markdown",
   "id": "e4c064f5",
   "metadata": {},
   "source": [
    "# Get true coordinate, rotate to LIDAR"
   ]
  },
  {
   "cell_type": "code",
   "execution_count": 36,
   "id": "2c4b6dfb",
   "metadata": {},
   "outputs": [],
   "source": [
    "import numpy as np\n",
    "import pandas as pd\n"
   ]
  },
  {
   "cell_type": "code",
   "execution_count": 37,
   "id": "84846b5a",
   "metadata": {},
   "outputs": [],
   "source": [
    "# for frame 87\n",
    "heel = np.array([626.8774819, 1213.684785])\n",
    "toe =  np.array([549.8038041, 1191.720375])"
   ]
  },
  {
   "cell_type": "code",
   "execution_count": 43,
   "id": "453cc4cb",
   "metadata": {},
   "outputs": [
    {
     "data": {
      "text/plain": [
       "(array([ 83.58366425, 161.824638  ]), array([ 73.30717388, 158.89605   ]))"
      ]
     },
     "execution_count": 43,
     "metadata": {},
     "output_type": "execute_result"
    }
   ],
   "source": [
    "k = 1920/256\n",
    "heel = heel/k\n",
    "toe = toe/k\n",
    "heel,toe"
   ]
  },
  {
   "cell_type": "code",
   "execution_count": 45,
   "id": "106feac4",
   "metadata": {},
   "outputs": [],
   "source": [
    "x_heel_lidar =  int(144-heel[0])\n",
    "y_heel_lidar =  int(heel[1])\n",
    "x_toe_lidar = int(144-toe[0])\n",
    "y_toe_lidar = int(toe[1])"
   ]
  },
  {
   "cell_type": "code",
   "execution_count": 44,
   "id": "e322109e",
   "metadata": {},
   "outputs": [
    {
     "name": "stdout",
     "output_type": "stream",
     "text": [
      "   0.000000  1.356445  1.430664  1.438477  1.449219  1.463867  1.475586  \\\n",
      "0  0.033318  1.474609  1.552734  1.564453  1.580078  1.598633  1.614258   \n",
      "1  0.066637  1.729492  1.849609  1.870117  1.891602  1.911133  1.925781   \n",
      "2  0.099955  1.275391  1.358398  1.368164  1.379883  1.394531  1.405273   \n",
      "3  0.133273  1.500000  1.579102  1.594727  1.614258  1.633789  1.649414   \n",
      "\n",
      "   1.477539  1.477539.1  1.480469  ...  1.121094.24  1.117188.32  1.111328.24  \\\n",
      "0  1.622070    1.625977  1.631836  ...     1.051758     1.048828     1.043945   \n",
      "1  1.930664    1.928711  1.930664  ...     2.011719     2.003906     1.990234   \n",
      "2  1.405273    1.399414  1.401367  ...     1.116211     1.113281     1.107422   \n",
      "3  1.657227    1.662109  1.667969  ...     1.078125     1.074219     1.068359   \n",
      "\n",
      "   1.105469.19  1.095703.32  1.082031.38  1.076172.18  1.029297  0.995117  \\\n",
      "0     1.041016     1.034180     1.021484     1.009766  0.964844  0.937500   \n",
      "1     1.981445     1.965820     1.952148     1.941406  1.877930  1.904297   \n",
      "2     1.101562     1.092773     1.078125     1.070312  1.025391  0.992188   \n",
      "3     1.065430     1.057617     1.044922     1.035156  0.990234  0.958496   \n",
      "\n",
      "   0.967773  \n",
      "0  0.922852  \n",
      "1  1.758789  \n",
      "2  0.971680  \n",
      "3  0.938965  \n",
      "\n",
      "[4 rows x 36865 columns]\n"
     ]
    },
    {
     "data": {
      "image/png": "[encoded data removed]",
      "text/plain": [
       "<Figure size 640x480 with 2 Axes>"
      ]
     },
     "metadata": {},
     "output_type": "display_data"
    }
   ],
   "source": [
    "import numpy as np\n",
    "import pandas as pd\n",
    "import matplotlib.pyplot as plt\n",
    "\n",
    "lidar_df = pd.read_csv('E:/NUS/5003/Camera_cali/ivy_data/ivy1/lidar.csv')\n",
    "frame_info_df = pd.read_csv('E:/NUS/5003/Camera_cali/ivy_data/ivy1/HSTO_info.csv')\n",
    "\n",
    "depth_mtx = np.array(lidar_df.iloc[86,1:]).reshape( 144 , 256)  # 144 row, 256 column  ## at t = 2.9s, should be row index = 86\n",
    "\n",
    "# 使用matplotlib绘制heatmap\n",
    "plt.imshow(depth_mtx, cmap='viridis', interpolation='nearest')\n",
    "plt.colorbar()  # 添加颜色条以显示深度值对应的颜色\n",
    "plt.title('Depth Matrix Heatmap')\n",
    "plt.show()"
   ]
  },
  {
   "cell_type": "code",
   "execution_count": 47,
   "id": "087af00f",
   "metadata": {},
   "outputs": [
    {
     "data": {
      "text/plain": [
       "(2.650391, 2.355469)"
      ]
     },
     "execution_count": 47,
     "metadata": {},
     "output_type": "execute_result"
    }
   ],
   "source": [
    "heel_depth = depth_mtx[x_heel_lidar, y_heel_lidar]\n",
    "toe_depth =  depth_mtx[x_toe_lidar,  y_toe_lidar ]\n",
    "heel_depth, toe_depth"
   ]
  },
  {
   "cell_type": "code",
   "execution_count": 62,
   "id": "c7e166fc",
   "metadata": {},
   "outputs": [],
   "source": [
    "camera_mtx1 = pd.read_csv(os.getcwd()+'/ivy_data/LabCamera/parameter_mtx1.csv')\n",
    "camera_mtx2 = pd.read_csv(os.getcwd()+'/ivy_data/LabCamera/parameter_mtx2.csv')\n",
    "\n",
    "avg_camera_mtx = (camera_mtx1+camera_mtx2) /2"
   ]
  },
  {
   "cell_type": "code",
   "execution_count": 63,
   "id": "623918a7",
   "metadata": {},
   "outputs": [],
   "source": [
    "camera_mtx1 = camera_mtx1.iloc[:,1:]\n",
    "camera_mtx2 = camera_mtx2.iloc[:,1:]\n",
    "camera_mtx1 = np.array(camera_mtx1)\n",
    "camera_mtx2 = np.array(camera_mtx2)"
   ]
  },
  {
   "cell_type": "code",
   "execution_count": 65,
   "id": "e372ad78",
   "metadata": {},
   "outputs": [],
   "source": [
    "avg_camera_mtx = (camera_mtx1+camera_mtx2) /2"
   ]
  },
  {
   "cell_type": "code",
   "execution_count": 67,
   "id": "038671ce",
   "metadata": {},
   "outputs": [],
   "source": [
    "Xc_heel = heel_depth*(x_heel_lidar-avg_camera_mtx[0,2])/avg_camera_mtx[0,0]\n",
    "Yc_heel = heel_depth*(y_heel_lidar-avg_camera_mtx[1,2])/avg_camera_mtx[1,1]\n",
    "Xc_toe = toe_depth*(x_toe_lidar-avg_camera_mtx[0,2])/avg_camera_mtx[0,0]\n",
    "Yc_toe = toe_depth*(x_toe_lidar-avg_camera_mtx[1,2])/avg_camera_mtx[1,1]"
   ]
  },
  {
   "cell_type": "code",
   "execution_count": 72,
   "id": "6a70c1e2",
   "metadata": {},
   "outputs": [
    {
     "data": {
      "text/plain": [
       "(-0.4691593756178517, -0.5400981367989168)"
      ]
     },
     "execution_count": 72,
     "metadata": {},
     "output_type": "execute_result"
    }
   ],
   "source": [
    "Xc_toe,Xc_heel"
   ]
  },
  {
   "cell_type": "code",
   "execution_count": 73,
   "id": "add77193",
   "metadata": {},
   "outputs": [],
   "source": [
    "sin_theta = abs(Yc_heel-Yc_toe)/(np.sqrt(  (Xc_heel-Xc_toe)**2+(Yc_heel-Yc_toe)**2+ (heel_depth-toe_depth)**2 )  )\n",
    "theta = np.arcsin(sin_theta)"
   ]
  },
  {
   "cell_type": "code",
   "execution_count": 76,
   "id": "be6b1e52",
   "metadata": {},
   "outputs": [
    {
     "data": {
      "text/plain": [
       "23.7704772298462"
      ]
     },
     "execution_count": 76,
     "metadata": {},
     "output_type": "execute_result"
    }
   ],
   "source": [
    "theta = np.degrees(theta)\n",
    "theta"
   ]
  },
  {
   "cell_type": "code",
   "execution_count": null,
   "id": "e24f0018",
   "metadata": {},
   "outputs": [],
   "source": []
  }
 ],
 "metadata": {
  "kernelspec": {
   "display_name": "Python 3 (ipykernel)",
   "language": "python",
   "name": "python3"
  },
  "language_info": {
   "codemirror_mode": {
    "name": "ipython",
    "version": 3
   },
   "file_extension": ".py",
   "mimetype": "text/x-python",
   "name": "python",
   "nbconvert_exporter": "python",
   "pygments_lexer": "ipython3",
   "version": "3.8.17"
  }
 },
 "nbformat": 4,
 "nbformat_minor": 5
}
